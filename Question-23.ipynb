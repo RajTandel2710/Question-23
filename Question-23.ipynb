{
 "cells": [
  {
   "cell_type": "markdown",
   "id": "2cbc7383",
   "metadata": {},
   "source": [
    "# Question-23"
   ]
  },
  {
   "cell_type": "code",
   "execution_count": 106,
   "id": "597a82d4",
   "metadata": {},
   "outputs": [],
   "source": [
    "def tough(indent, pattern):\n",
    "    if pattern == 0:\n",
    "        return\n",
    "    else:\n",
    "        tough(indent, pattern - 1)\n",
    "        print(\" \" * indent, end=\"\")\n",
    "        print(\"*\" * pattern)\n",
    "        tough(indent, pattern - 1)"
   ]
  },
  {
   "cell_type": "code",
   "execution_count": 111,
   "id": "c923d266",
   "metadata": {},
   "outputs": [],
   "source": [
    "tough(0,0)"
   ]
  },
  {
   "cell_type": "code",
   "execution_count": 112,
   "id": "25572f8f",
   "metadata": {},
   "outputs": [
    {
     "name": "stdout",
     "output_type": "stream",
     "text": [
      "*\n"
     ]
    }
   ],
   "source": [
    "tough(0,1)"
   ]
  },
  {
   "cell_type": "code",
   "execution_count": 113,
   "id": "b8ae5fec",
   "metadata": {},
   "outputs": [
    {
     "name": "stdout",
     "output_type": "stream",
     "text": [
      "*\n",
      "**\n",
      "*\n"
     ]
    }
   ],
   "source": [
    "tough(0,2)"
   ]
  },
  {
   "cell_type": "code",
   "execution_count": 114,
   "id": "035495ea",
   "metadata": {},
   "outputs": [
    {
     "name": "stdout",
     "output_type": "stream",
     "text": [
      "*\n",
      "**\n",
      "*\n",
      "***\n",
      "*\n",
      "**\n",
      "*\n"
     ]
    }
   ],
   "source": [
    "tough(0,3)"
   ]
  },
  {
   "cell_type": "code",
   "execution_count": 94,
   "id": "0fc190f7",
   "metadata": {},
   "outputs": [
    {
     "name": "stdout",
     "output_type": "stream",
     "text": [
      "*\n",
      "**\n",
      "*\n",
      "***\n",
      "*\n",
      "**\n",
      "*\n",
      "****\n",
      "*\n",
      "**\n",
      "*\n",
      "***\n",
      "*\n",
      "**\n",
      "*\n"
     ]
    }
   ],
   "source": [
    "tough(0,4)"
   ]
  }
 ],
 "metadata": {
  "kernelspec": {
   "display_name": "Python 3 (ipykernel)",
   "language": "python",
   "name": "python3"
  },
  "language_info": {
   "codemirror_mode": {
    "name": "ipython",
    "version": 3
   },
   "file_extension": ".py",
   "mimetype": "text/x-python",
   "name": "python",
   "nbconvert_exporter": "python",
   "pygments_lexer": "ipython3",
   "version": "3.11.4"
  }
 },
 "nbformat": 4,
 "nbformat_minor": 5
}
